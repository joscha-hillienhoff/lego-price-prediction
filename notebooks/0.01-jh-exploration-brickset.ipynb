{
 "cells": [
  {
   "cell_type": "markdown",
   "id": "fd2a40ee",
   "metadata": {},
   "source": [
    "# 0.01 — Data Exploration: Brickset LEGO Dataset 🧱\n",
    "\n",
    "**Goal:**  \n",
    "Understand the raw LEGO Brickset dataset and identify data quality issues that need to be addressed before modeling ROI.  \n",
    "\n",
    "This notebook focuses on:\n",
    "- Exploring the raw \n",
    "- Understanding column content and structure\n",
    "- Identifying missing values and outliers\n",
    "- Documenting insights to guide the cleaning pipeline\n"
   ]
  },
  {
   "cell_type": "markdown",
   "id": "05d68ff9",
   "metadata": {
    "vscode": {
     "languageId": "plaintext"
    }
   },
   "source": [
    "# 0. Setup & Imports"
   ]
  },
  {
   "cell_type": "code",
   "execution_count": 1,
   "id": "e28c24bb",
   "metadata": {},
   "outputs": [],
   "source": [
    "# Notebook setup\n",
    "%load_ext autoreload\n",
    "%autoreload 2\n",
    "\n",
    "import pandas as pd\n",
    "import seaborn as sns\n",
    "import matplotlib.pyplot as plt\n",
    "from pathlib import Path\n",
    "import sys\n",
    "import numpy as np\n",
    "\n",
    "# Add project root to Python path\n",
    "sys.path.append(str(Path.cwd().parent))\n",
    "\n",
    "# Project imports\n",
    "from src.process import load_sets, load_fx\n",
    "\n",
    "sns.set_theme(style=\"whitegrid\")"
   ]
  },
  {
   "cell_type": "markdown",
   "id": "ac4ec846",
   "metadata": {},
   "source": [
    "# 1. Load Data\n",
    "\n",
    "We load:\n",
    "- Raw Brickset LEGO dataset\n",
    "- EUR/USD and EUR/GBP exchange rates\n",
    "\n",
    "We **do not clean** the data yet — the purpose here is to understand the raw structure.\n"
   ]
  },
  {
   "cell_type": "code",
   "execution_count": 2,
   "id": "460fad82",
   "metadata": {},
   "outputs": [
    {
     "name": "stdout",
     "output_type": "stream",
     "text": [
      "[process] Reading 25 file(s) from /Users/joscha/PythonProjects/lego-price-prediction/data/raw/brickset data\n"
     ]
    },
    {
     "name": "stderr",
     "output_type": "stream",
     "text": [
      "/Users/joscha/PythonProjects/lego-price-prediction/src/process.py:44: FutureWarning: The behavior of DataFrame concatenation with empty or all-NA entries is deprecated. In a future version, this will no longer exclude empty or all-NA columns when determining the result dtypes. To retain the old behavior, exclude the relevant entries before the concat operation.\n",
      "  df = pd.concat(\n"
     ]
    }
   ],
   "source": [
    "# Define paths\n",
    "DATA_DIR = Path(\"../data/raw/brickset data\")\n",
    "USD_PATH = \"../data/raw/exchange rate/eur_dolllar_rate.csv\"\n",
    "GBP_PATH = \"../data/raw/exchange rate/eur_pound_rate.csv\"\n",
    "\n",
    "# Load data\n",
    "df_raw = load_sets(DATA_DIR)\n",
    "fx_usd, fx_gbp = load_fx(USD_PATH, GBP_PATH)"
   ]
  },
  {
   "cell_type": "markdown",
   "id": "d1600f7e",
   "metadata": {},
   "source": [
    "# 2. Initial Overview\n",
    "\n",
    "We start by understanding:\n",
    "- Shape of the dataset\n",
    "- Column types\n",
    "- Example rows\n",
    "\n",
    "**Insight 1:** Several columns contain metadata (e.g., image links, EAN, UPC) that are not relevant for modeling and will likely be dropped during the cleaning phase to simplify the dataset.\n",
    "\n",
    "**Insight 2:** A number of columns show high proportions of missing values, which will require a clear imputation or removal strategy in later steps.\n"
   ]
  },
  {
   "cell_type": "code",
   "execution_count": 3,
   "id": "92181d86",
   "metadata": {},
   "outputs": [
    {
     "name": "stdout",
     "output_type": "stream",
     "text": [
      "Number of rows: 15833\n",
      "Number of columns: 46\n"
     ]
    }
   ],
   "source": [
    "# Shape of the dataset\n",
    "print(f\"Number of rows: {df_raw.shape[0]}\")\n",
    "print(f\"Number of columns: {df_raw.shape[1]}\")"
   ]
  },
  {
   "cell_type": "code",
   "execution_count": 4,
   "id": "0dd05bef",
   "metadata": {},
   "outputs": [
    {
     "name": "stdout",
     "output_type": "stream",
     "text": [
      "<class 'pandas.core.frame.DataFrame'>\n",
      "RangeIndex: 15833 entries, 0 to 15832\n",
      "Data columns (total 46 columns):\n",
      " #   Column                  Non-Null Count  Dtype  \n",
      "---  ------                  --------------  -----  \n",
      " 0   SetID                   15833 non-null  object \n",
      " 1   Number                  15833 non-null  object \n",
      " 2   Variant                 15833 non-null  object \n",
      " 3   YearFrom                15833 non-null  object \n",
      " 4   Category                15833 non-null  object \n",
      " 5   Theme                   15833 non-null  object \n",
      " 6   ThemeGroup              15832 non-null  object \n",
      " 7   Subtheme                14101 non-null  object \n",
      " 8   SetName                 15833 non-null  object \n",
      " 9   Image                   15351 non-null  object \n",
      " 10  ImageFilename           15351 non-null  object \n",
      " 11  USRetailPrice           10485 non-null  float64\n",
      " 12  UKRetailPrice           9428 non-null   float64\n",
      " 13  CARetailPrice           6618 non-null   float64\n",
      " 14  DERetailPrice           5613 non-null   float64\n",
      " 15  USDateAdded             7653 non-null   object \n",
      " 16  USDateRemoved           7653 non-null   object \n",
      " 17  Pieces                  11918 non-null  float64\n",
      " 18  Minifigs                7098 non-null   float64\n",
      " 19  MinifigNumbers          7140 non-null   object \n",
      " 20  PackagingType           15833 non-null  object \n",
      " 21  Availability            15833 non-null  object \n",
      " 22  USItemNumber            9225 non-null   float64\n",
      " 23  EUItemNumber            8364 non-null   float64\n",
      " 24  EAN                     7181 non-null   float64\n",
      " 25  UPC                     7335 non-null   float64\n",
      " 26  Width                   7960 non-null   float64\n",
      " 27  Height                  7959 non-null   float64\n",
      " 28  Depth                   7953 non-null   float64\n",
      " 29  Weight                  4057 non-null   float64\n",
      " 30  ModelDimension1         1923 non-null   float64\n",
      " 31  ModelDimension2         1923 non-null   float64\n",
      " 32  ModelDimension3         1923 non-null   float64\n",
      " 33  AgeMin                  8061 non-null   float64\n",
      " 34  AgeMax                  2870 non-null   float64\n",
      " 35  OwnCount                15833 non-null  object \n",
      " 36  WantCount               15833 non-null  object \n",
      " 37  InstructionsCount       15833 non-null  object \n",
      " 38  AdditionalImageCount    15833 non-null  object \n",
      " 39  Released                15772 non-null  object \n",
      " 40  Rating                  15833 non-null  object \n",
      " 41  BrickLinkSoldPriceNew   10660 non-null  float64\n",
      " 42  BrickLinkSoldPriceUsed  9334 non-null   float64\n",
      " 43  Designers               3631 non-null   object \n",
      " 44  LaunchDate              7442 non-null   object \n",
      " 45  ExitDate                7406 non-null   object \n",
      "dtypes: float64(21), object(25)\n",
      "memory usage: 5.6+ MB\n"
     ]
    },
    {
     "data": {
      "application/vnd.microsoft.datawrangler.viewer.v0+json": {
       "columns": [
        {
         "name": "index",
         "rawType": "int64",
         "type": "integer"
        },
        {
         "name": "SetID",
         "rawType": "object",
         "type": "unknown"
        },
        {
         "name": "Number",
         "rawType": "object",
         "type": "string"
        },
        {
         "name": "Variant",
         "rawType": "object",
         "type": "unknown"
        },
        {
         "name": "YearFrom",
         "rawType": "object",
         "type": "unknown"
        },
        {
         "name": "Category",
         "rawType": "object",
         "type": "string"
        },
        {
         "name": "Theme",
         "rawType": "object",
         "type": "string"
        },
        {
         "name": "ThemeGroup",
         "rawType": "object",
         "type": "string"
        },
        {
         "name": "Subtheme",
         "rawType": "object",
         "type": "unknown"
        },
        {
         "name": "SetName",
         "rawType": "object",
         "type": "string"
        },
        {
         "name": "Image",
         "rawType": "object",
         "type": "string"
        },
        {
         "name": "ImageFilename",
         "rawType": "object",
         "type": "string"
        },
        {
         "name": "USRetailPrice",
         "rawType": "float64",
         "type": "float"
        },
        {
         "name": "UKRetailPrice",
         "rawType": "float64",
         "type": "float"
        },
        {
         "name": "CARetailPrice",
         "rawType": "float64",
         "type": "float"
        },
        {
         "name": "DERetailPrice",
         "rawType": "float64",
         "type": "float"
        },
        {
         "name": "USDateAdded",
         "rawType": "object",
         "type": "unknown"
        },
        {
         "name": "USDateRemoved",
         "rawType": "object",
         "type": "unknown"
        },
        {
         "name": "Pieces",
         "rawType": "float64",
         "type": "float"
        },
        {
         "name": "Minifigs",
         "rawType": "float64",
         "type": "float"
        },
        {
         "name": "MinifigNumbers",
         "rawType": "object",
         "type": "unknown"
        },
        {
         "name": "PackagingType",
         "rawType": "object",
         "type": "string"
        },
        {
         "name": "Availability",
         "rawType": "object",
         "type": "string"
        },
        {
         "name": "USItemNumber",
         "rawType": "float64",
         "type": "float"
        },
        {
         "name": "EUItemNumber",
         "rawType": "float64",
         "type": "float"
        },
        {
         "name": "EAN",
         "rawType": "float64",
         "type": "float"
        },
        {
         "name": "UPC",
         "rawType": "float64",
         "type": "float"
        },
        {
         "name": "Width",
         "rawType": "float64",
         "type": "float"
        },
        {
         "name": "Height",
         "rawType": "float64",
         "type": "float"
        },
        {
         "name": "Depth",
         "rawType": "float64",
         "type": "float"
        },
        {
         "name": "Weight",
         "rawType": "float64",
         "type": "float"
        },
        {
         "name": "ModelDimension1",
         "rawType": "float64",
         "type": "float"
        },
        {
         "name": "ModelDimension2",
         "rawType": "float64",
         "type": "float"
        },
        {
         "name": "ModelDimension3",
         "rawType": "float64",
         "type": "float"
        },
        {
         "name": "AgeMin",
         "rawType": "float64",
         "type": "float"
        },
        {
         "name": "AgeMax",
         "rawType": "float64",
         "type": "float"
        },
        {
         "name": "OwnCount",
         "rawType": "object",
         "type": "unknown"
        },
        {
         "name": "WantCount",
         "rawType": "object",
         "type": "unknown"
        },
        {
         "name": "InstructionsCount",
         "rawType": "object",
         "type": "unknown"
        },
        {
         "name": "AdditionalImageCount",
         "rawType": "object",
         "type": "unknown"
        },
        {
         "name": "Released",
         "rawType": "object",
         "type": "string"
        },
        {
         "name": "Rating",
         "rawType": "object",
         "type": "unknown"
        },
        {
         "name": "BrickLinkSoldPriceNew",
         "rawType": "float64",
         "type": "float"
        },
        {
         "name": "BrickLinkSoldPriceUsed",
         "rawType": "float64",
         "type": "float"
        },
        {
         "name": "Designers",
         "rawType": "object",
         "type": "unknown"
        },
        {
         "name": "LaunchDate",
         "rawType": "object",
         "type": "unknown"
        },
        {
         "name": "ExitDate",
         "rawType": "object",
         "type": "unknown"
        }
       ],
       "ref": "e1280b68-1ef3-448b-8662-9a4d8587e72e",
       "rows": [
        [
         "0",
         "133",
         "1086",
         "1",
         "2000",
         "Normal",
         "Duplo",
         "Pre-school",
         null,
         "Bulk Bucket",
         "X",
         "1086-1",
         null,
         null,
         null,
         null,
         null,
         null,
         "48.0",
         null,
         null,
         "Bucket",
         "Retail",
         null,
         null,
         null,
         null,
         null,
         null,
         null,
         null,
         null,
         null,
         null,
         null,
         null,
         "39",
         "28",
         "0",
         "0",
         "X",
         "0",
         null,
         null,
         null,
         "09/10/2000 00:00:00",
         "31/12/2001 00:00:00"
        ],
        [
         "1",
         "174",
         "1177",
         "1",
         "2000",
         "Normal",
         "Town",
         "Modern day",
         "Special",
         "Santa's Truck",
         "X",
         "1177-1",
         null,
         null,
         null,
         null,
         null,
         null,
         "27.0",
         "1.0",
         "hol008,",
         "Polybag",
         "Promotional",
         null,
         null,
         null,
         null,
         null,
         null,
         null,
         null,
         null,
         null,
         null,
         null,
         null,
         "132",
         "603",
         "0",
         "0",
         "X",
         "5",
         "114.13",
         null,
         "Bjarke Lykke Madsen,",
         null,
         null
        ],
        [
         "2",
         "189",
         "1196",
         "1",
         "2000",
         "Normal",
         "Town",
         "Modern day",
         "Telekom",
         "Telekom Race Cyclist",
         "X",
         "1196-1",
         null,
         null,
         null,
         null,
         null,
         null,
         "5.0",
         "1.0",
         "pln165,",
         "Box",
         "Promotional",
         null,
         null,
         "5702012012303.0",
         null,
         null,
         null,
         null,
         null,
         null,
         null,
         null,
         null,
         null,
         "527",
         "555",
         "0",
         "0",
         "X",
         "11",
         "20.0",
         "12.77",
         "Bjarke Lykke Madsen,",
         null,
         null
        ],
        [
         "3",
         "190",
         "1197",
         "1",
         "2000",
         "Normal",
         "Town",
         "Modern day",
         "Telekom",
         "Telekom Race Cyclist and Television Motorbike",
         "X",
         "1197-1",
         null,
         null,
         null,
         null,
         null,
         null,
         "26.0",
         "3.0",
         "pln165,tel002,tel003,",
         "Box",
         "Promotional",
         null,
         null,
         "5702012012310.0",
         null,
         "14.4",
         "9.6",
         "4.8",
         null,
         null,
         null,
         null,
         null,
         null,
         "454",
         "566",
         "1",
         "0",
         "X",
         "2",
         "35.75",
         "20.53",
         "Bjarke Lykke Madsen,",
         "16/06/2000 00:00:00",
         "31/12/2000 00:00:00"
        ],
        [
         "4",
         "191",
         "1198",
         "1",
         "2000",
         "Normal",
         "Town",
         "Modern day",
         "Telekom",
         "Telekom Race Cyclists and Service Crew",
         "X",
         "1198-1",
         null,
         null,
         null,
         null,
         null,
         null,
         "70.0",
         "3.0",
         "pln165,tel004,",
         "Box",
         "Promotional",
         null,
         null,
         "5702012012327.0",
         null,
         "24.0",
         "14.4",
         "4.8",
         null,
         null,
         null,
         null,
         null,
         null,
         "525",
         "557",
         "1",
         "0",
         "X",
         "8",
         "47.39",
         "40.0",
         "Bjarke Lykke Madsen,",
         "16/06/2000 00:00:00",
         "31/12/2000 00:00:00"
        ]
       ],
       "shape": {
        "columns": 46,
        "rows": 5
       }
      },
      "text/html": [
       "<div>\n",
       "<style scoped>\n",
       "    .dataframe tbody tr th:only-of-type {\n",
       "        vertical-align: middle;\n",
       "    }\n",
       "\n",
       "    .dataframe tbody tr th {\n",
       "        vertical-align: top;\n",
       "    }\n",
       "\n",
       "    .dataframe thead th {\n",
       "        text-align: right;\n",
       "    }\n",
       "</style>\n",
       "<table border=\"1\" class=\"dataframe\">\n",
       "  <thead>\n",
       "    <tr style=\"text-align: right;\">\n",
       "      <th></th>\n",
       "      <th>SetID</th>\n",
       "      <th>Number</th>\n",
       "      <th>Variant</th>\n",
       "      <th>YearFrom</th>\n",
       "      <th>Category</th>\n",
       "      <th>Theme</th>\n",
       "      <th>ThemeGroup</th>\n",
       "      <th>Subtheme</th>\n",
       "      <th>SetName</th>\n",
       "      <th>Image</th>\n",
       "      <th>...</th>\n",
       "      <th>WantCount</th>\n",
       "      <th>InstructionsCount</th>\n",
       "      <th>AdditionalImageCount</th>\n",
       "      <th>Released</th>\n",
       "      <th>Rating</th>\n",
       "      <th>BrickLinkSoldPriceNew</th>\n",
       "      <th>BrickLinkSoldPriceUsed</th>\n",
       "      <th>Designers</th>\n",
       "      <th>LaunchDate</th>\n",
       "      <th>ExitDate</th>\n",
       "    </tr>\n",
       "  </thead>\n",
       "  <tbody>\n",
       "    <tr>\n",
       "      <th>0</th>\n",
       "      <td>133</td>\n",
       "      <td>1086</td>\n",
       "      <td>1</td>\n",
       "      <td>2000</td>\n",
       "      <td>Normal</td>\n",
       "      <td>Duplo</td>\n",
       "      <td>Pre-school</td>\n",
       "      <td>NaN</td>\n",
       "      <td>Bulk Bucket</td>\n",
       "      <td>X</td>\n",
       "      <td>...</td>\n",
       "      <td>28</td>\n",
       "      <td>0</td>\n",
       "      <td>0</td>\n",
       "      <td>X</td>\n",
       "      <td>0</td>\n",
       "      <td>NaN</td>\n",
       "      <td>NaN</td>\n",
       "      <td>NaN</td>\n",
       "      <td>09/10/2000 00:00:00</td>\n",
       "      <td>31/12/2001 00:00:00</td>\n",
       "    </tr>\n",
       "    <tr>\n",
       "      <th>1</th>\n",
       "      <td>174</td>\n",
       "      <td>1177</td>\n",
       "      <td>1</td>\n",
       "      <td>2000</td>\n",
       "      <td>Normal</td>\n",
       "      <td>Town</td>\n",
       "      <td>Modern day</td>\n",
       "      <td>Special</td>\n",
       "      <td>Santa's Truck</td>\n",
       "      <td>X</td>\n",
       "      <td>...</td>\n",
       "      <td>603</td>\n",
       "      <td>0</td>\n",
       "      <td>0</td>\n",
       "      <td>X</td>\n",
       "      <td>5</td>\n",
       "      <td>114.13</td>\n",
       "      <td>NaN</td>\n",
       "      <td>Bjarke Lykke Madsen,</td>\n",
       "      <td>NaN</td>\n",
       "      <td>NaN</td>\n",
       "    </tr>\n",
       "    <tr>\n",
       "      <th>2</th>\n",
       "      <td>189</td>\n",
       "      <td>1196</td>\n",
       "      <td>1</td>\n",
       "      <td>2000</td>\n",
       "      <td>Normal</td>\n",
       "      <td>Town</td>\n",
       "      <td>Modern day</td>\n",
       "      <td>Telekom</td>\n",
       "      <td>Telekom Race Cyclist</td>\n",
       "      <td>X</td>\n",
       "      <td>...</td>\n",
       "      <td>555</td>\n",
       "      <td>0</td>\n",
       "      <td>0</td>\n",
       "      <td>X</td>\n",
       "      <td>11</td>\n",
       "      <td>20.00</td>\n",
       "      <td>12.77</td>\n",
       "      <td>Bjarke Lykke Madsen,</td>\n",
       "      <td>NaN</td>\n",
       "      <td>NaN</td>\n",
       "    </tr>\n",
       "    <tr>\n",
       "      <th>3</th>\n",
       "      <td>190</td>\n",
       "      <td>1197</td>\n",
       "      <td>1</td>\n",
       "      <td>2000</td>\n",
       "      <td>Normal</td>\n",
       "      <td>Town</td>\n",
       "      <td>Modern day</td>\n",
       "      <td>Telekom</td>\n",
       "      <td>Telekom Race Cyclist and Television Motorbike</td>\n",
       "      <td>X</td>\n",
       "      <td>...</td>\n",
       "      <td>566</td>\n",
       "      <td>1</td>\n",
       "      <td>0</td>\n",
       "      <td>X</td>\n",
       "      <td>2</td>\n",
       "      <td>35.75</td>\n",
       "      <td>20.53</td>\n",
       "      <td>Bjarke Lykke Madsen,</td>\n",
       "      <td>16/06/2000 00:00:00</td>\n",
       "      <td>31/12/2000 00:00:00</td>\n",
       "    </tr>\n",
       "    <tr>\n",
       "      <th>4</th>\n",
       "      <td>191</td>\n",
       "      <td>1198</td>\n",
       "      <td>1</td>\n",
       "      <td>2000</td>\n",
       "      <td>Normal</td>\n",
       "      <td>Town</td>\n",
       "      <td>Modern day</td>\n",
       "      <td>Telekom</td>\n",
       "      <td>Telekom Race Cyclists and Service Crew</td>\n",
       "      <td>X</td>\n",
       "      <td>...</td>\n",
       "      <td>557</td>\n",
       "      <td>1</td>\n",
       "      <td>0</td>\n",
       "      <td>X</td>\n",
       "      <td>8</td>\n",
       "      <td>47.39</td>\n",
       "      <td>40.00</td>\n",
       "      <td>Bjarke Lykke Madsen,</td>\n",
       "      <td>16/06/2000 00:00:00</td>\n",
       "      <td>31/12/2000 00:00:00</td>\n",
       "    </tr>\n",
       "  </tbody>\n",
       "</table>\n",
       "<p>5 rows × 46 columns</p>\n",
       "</div>"
      ],
      "text/plain": [
       "  SetID Number Variant YearFrom Category  Theme  ThemeGroup Subtheme  \\\n",
       "0   133   1086       1     2000   Normal  Duplo  Pre-school      NaN   \n",
       "1   174   1177       1     2000   Normal   Town  Modern day  Special   \n",
       "2   189   1196       1     2000   Normal   Town  Modern day  Telekom   \n",
       "3   190   1197       1     2000   Normal   Town  Modern day  Telekom   \n",
       "4   191   1198       1     2000   Normal   Town  Modern day  Telekom   \n",
       "\n",
       "                                         SetName Image  ... WantCount  \\\n",
       "0                                    Bulk Bucket     X  ...        28   \n",
       "1                                  Santa's Truck     X  ...       603   \n",
       "2                           Telekom Race Cyclist     X  ...       555   \n",
       "3  Telekom Race Cyclist and Television Motorbike     X  ...       566   \n",
       "4         Telekom Race Cyclists and Service Crew     X  ...       557   \n",
       "\n",
       "   InstructionsCount  AdditionalImageCount  Released  Rating  \\\n",
       "0                  0                     0         X       0   \n",
       "1                  0                     0         X       5   \n",
       "2                  0                     0         X      11   \n",
       "3                  1                     0         X       2   \n",
       "4                  1                     0         X       8   \n",
       "\n",
       "  BrickLinkSoldPriceNew BrickLinkSoldPriceUsed             Designers  \\\n",
       "0                   NaN                    NaN                   NaN   \n",
       "1                114.13                    NaN  Bjarke Lykke Madsen,   \n",
       "2                 20.00                  12.77  Bjarke Lykke Madsen,   \n",
       "3                 35.75                  20.53  Bjarke Lykke Madsen,   \n",
       "4                 47.39                  40.00  Bjarke Lykke Madsen,   \n",
       "\n",
       "            LaunchDate             ExitDate  \n",
       "0  09/10/2000 00:00:00  31/12/2001 00:00:00  \n",
       "1                  NaN                  NaN  \n",
       "2                  NaN                  NaN  \n",
       "3  16/06/2000 00:00:00  31/12/2000 00:00:00  \n",
       "4  16/06/2000 00:00:00  31/12/2000 00:00:00  \n",
       "\n",
       "[5 rows x 46 columns]"
      ]
     },
     "execution_count": 4,
     "metadata": {},
     "output_type": "execute_result"
    }
   ],
   "source": [
    "# Basic info\n",
    "df_raw.info()\n",
    "df_raw.head()"
   ]
  },
  {
   "cell_type": "code",
   "execution_count": 5,
   "id": "1ad95abc",
   "metadata": {},
   "outputs": [
    {
     "data": {
      "application/vnd.microsoft.datawrangler.viewer.v0+json": {
       "columns": [
        {
         "name": "index",
         "rawType": "object",
         "type": "string"
        },
        {
         "name": "0",
         "rawType": "float64",
         "type": "float"
        }
       ],
       "ref": "4154361c-9c5b-4245-b1b9-185fec2b3140",
       "rows": [
        [
         "ModelDimension3",
         "0.8785448114697152"
        ],
        [
         "ModelDimension2",
         "0.8785448114697152"
        ],
        [
         "ModelDimension1",
         "0.8785448114697152"
        ],
        [
         "AgeMax",
         "0.8187330259584412"
        ],
        [
         "Designers",
         "0.770668856186446"
        ],
        [
         "Weight",
         "0.7437630265900335"
        ],
        [
         "DERetailPrice",
         "0.6454872734162824"
        ],
        [
         "CARetailPrice",
         "0.5820122528895345"
        ],
        [
         "Minifigs",
         "0.5516958251752668"
        ],
        [
         "MinifigNumbers",
         "0.5490431377502685"
        ],
        [
         "EAN",
         "0.5464536095496747"
        ],
        [
         "UPC",
         "0.5367270889913471"
        ],
        [
         "ExitDate",
         "0.5322427840586118"
        ],
        [
         "LaunchDate",
         "0.5299690519800417"
        ],
        [
         "USDateAdded",
         "0.5166424556306448"
        ],
        [
         "USDateRemoved",
         "0.5166424556306448"
        ],
        [
         "Depth",
         "0.4976946883092276"
        ],
        [
         "Height",
         "0.49731573296279924"
        ],
        [
         "Width",
         "0.4972525737383945"
        ],
        [
         "AgeMin",
         "0.4908734920735173"
        ]
       ],
       "shape": {
        "columns": 1,
        "rows": 20
       }
      },
      "text/plain": [
       "ModelDimension3    0.878545\n",
       "ModelDimension2    0.878545\n",
       "ModelDimension1    0.878545\n",
       "AgeMax             0.818733\n",
       "Designers          0.770669\n",
       "Weight             0.743763\n",
       "DERetailPrice      0.645487\n",
       "CARetailPrice      0.582012\n",
       "Minifigs           0.551696\n",
       "MinifigNumbers     0.549043\n",
       "EAN                0.546454\n",
       "UPC                0.536727\n",
       "ExitDate           0.532243\n",
       "LaunchDate         0.529969\n",
       "USDateAdded        0.516642\n",
       "USDateRemoved      0.516642\n",
       "Depth              0.497695\n",
       "Height             0.497316\n",
       "Width              0.497253\n",
       "AgeMin             0.490873\n",
       "dtype: float64"
      ]
     },
     "execution_count": 5,
     "metadata": {},
     "output_type": "execute_result"
    }
   ],
   "source": [
    "# Null values per column\n",
    "df_raw.isna().mean().sort_values(ascending=False).head(20)"
   ]
  },
  {
   "cell_type": "markdown",
   "id": "d1e1a04c",
   "metadata": {},
   "source": [
    "# 3. Identify Irrelevant Columns\n",
    "\n",
    "Columns such as `Image`, `ImageFilename`, `EAN`, `UPC`, and similar appear to be:\n",
    "- Metadata for display (not predictive)\n",
    "- Largely empty or constant\n",
    "- Unrelated to price or ROI\n",
    "\n",
    "They will be dropped during the cleaning phase to streamline the dataset and reduce noise.\n"
   ]
  },
  {
   "cell_type": "code",
   "execution_count": 6,
   "id": "98e8b628",
   "metadata": {},
   "outputs": [
    {
     "data": {
      "application/vnd.microsoft.datawrangler.viewer.v0+json": {
       "columns": [
        {
         "name": "index",
         "rawType": "int64",
         "type": "integer"
        },
        {
         "name": "Image",
         "rawType": "object",
         "type": "string"
        },
        {
         "name": "ImageFilename",
         "rawType": "object",
         "type": "string"
        },
        {
         "name": "EAN",
         "rawType": "float64",
         "type": "float"
        },
        {
         "name": "USDateAdded",
         "rawType": "object",
         "type": "unknown"
        },
        {
         "name": "USDateRemoved",
         "rawType": "object",
         "type": "unknown"
        },
        {
         "name": "UPC",
         "rawType": "float64",
         "type": "float"
        },
        {
         "name": "Rating",
         "rawType": "object",
         "type": "unknown"
        },
        {
         "name": "Released",
         "rawType": "object",
         "type": "string"
        },
        {
         "name": "USItemNumber",
         "rawType": "float64",
         "type": "float"
        },
        {
         "name": "EUItemNumber",
         "rawType": "float64",
         "type": "float"
        },
        {
         "name": "AdditionalImageCount",
         "rawType": "object",
         "type": "unknown"
        },
        {
         "name": "InstructionsCount",
         "rawType": "object",
         "type": "unknown"
        }
       ],
       "ref": "db87518f-ec0f-4c4a-afdd-028661d30f5a",
       "rows": [
        [
         "0",
         "X",
         "1086-1",
         null,
         null,
         null,
         null,
         "0",
         "X",
         null,
         null,
         "0",
         "0"
        ],
        [
         "1",
         "X",
         "1177-1",
         null,
         null,
         null,
         null,
         "5",
         "X",
         null,
         null,
         "0",
         "0"
        ],
        [
         "2",
         "X",
         "1196-1",
         "5702012012303.0",
         null,
         null,
         null,
         "11",
         "X",
         null,
         null,
         "0",
         "0"
        ],
        [
         "3",
         "X",
         "1197-1",
         "5702012012310.0",
         null,
         null,
         null,
         "2",
         "X",
         null,
         null,
         "0",
         "1"
        ],
        [
         "4",
         "X",
         "1198-1",
         "5702012012327.0",
         null,
         null,
         null,
         "8",
         "X",
         null,
         null,
         "0",
         "1"
        ]
       ],
       "shape": {
        "columns": 12,
        "rows": 5
       }
      },
      "text/html": [
       "<div>\n",
       "<style scoped>\n",
       "    .dataframe tbody tr th:only-of-type {\n",
       "        vertical-align: middle;\n",
       "    }\n",
       "\n",
       "    .dataframe tbody tr th {\n",
       "        vertical-align: top;\n",
       "    }\n",
       "\n",
       "    .dataframe thead th {\n",
       "        text-align: right;\n",
       "    }\n",
       "</style>\n",
       "<table border=\"1\" class=\"dataframe\">\n",
       "  <thead>\n",
       "    <tr style=\"text-align: right;\">\n",
       "      <th></th>\n",
       "      <th>Image</th>\n",
       "      <th>ImageFilename</th>\n",
       "      <th>EAN</th>\n",
       "      <th>USDateAdded</th>\n",
       "      <th>USDateRemoved</th>\n",
       "      <th>UPC</th>\n",
       "      <th>Rating</th>\n",
       "      <th>Released</th>\n",
       "      <th>USItemNumber</th>\n",
       "      <th>EUItemNumber</th>\n",
       "      <th>AdditionalImageCount</th>\n",
       "      <th>InstructionsCount</th>\n",
       "    </tr>\n",
       "  </thead>\n",
       "  <tbody>\n",
       "    <tr>\n",
       "      <th>0</th>\n",
       "      <td>X</td>\n",
       "      <td>1086-1</td>\n",
       "      <td>NaN</td>\n",
       "      <td>NaN</td>\n",
       "      <td>NaN</td>\n",
       "      <td>NaN</td>\n",
       "      <td>0</td>\n",
       "      <td>X</td>\n",
       "      <td>NaN</td>\n",
       "      <td>NaN</td>\n",
       "      <td>0</td>\n",
       "      <td>0</td>\n",
       "    </tr>\n",
       "    <tr>\n",
       "      <th>1</th>\n",
       "      <td>X</td>\n",
       "      <td>1177-1</td>\n",
       "      <td>NaN</td>\n",
       "      <td>NaN</td>\n",
       "      <td>NaN</td>\n",
       "      <td>NaN</td>\n",
       "      <td>5</td>\n",
       "      <td>X</td>\n",
       "      <td>NaN</td>\n",
       "      <td>NaN</td>\n",
       "      <td>0</td>\n",
       "      <td>0</td>\n",
       "    </tr>\n",
       "    <tr>\n",
       "      <th>2</th>\n",
       "      <td>X</td>\n",
       "      <td>1196-1</td>\n",
       "      <td>5.702012e+12</td>\n",
       "      <td>NaN</td>\n",
       "      <td>NaN</td>\n",
       "      <td>NaN</td>\n",
       "      <td>11</td>\n",
       "      <td>X</td>\n",
       "      <td>NaN</td>\n",
       "      <td>NaN</td>\n",
       "      <td>0</td>\n",
       "      <td>0</td>\n",
       "    </tr>\n",
       "    <tr>\n",
       "      <th>3</th>\n",
       "      <td>X</td>\n",
       "      <td>1197-1</td>\n",
       "      <td>5.702012e+12</td>\n",
       "      <td>NaN</td>\n",
       "      <td>NaN</td>\n",
       "      <td>NaN</td>\n",
       "      <td>2</td>\n",
       "      <td>X</td>\n",
       "      <td>NaN</td>\n",
       "      <td>NaN</td>\n",
       "      <td>0</td>\n",
       "      <td>1</td>\n",
       "    </tr>\n",
       "    <tr>\n",
       "      <th>4</th>\n",
       "      <td>X</td>\n",
       "      <td>1198-1</td>\n",
       "      <td>5.702012e+12</td>\n",
       "      <td>NaN</td>\n",
       "      <td>NaN</td>\n",
       "      <td>NaN</td>\n",
       "      <td>8</td>\n",
       "      <td>X</td>\n",
       "      <td>NaN</td>\n",
       "      <td>NaN</td>\n",
       "      <td>0</td>\n",
       "      <td>1</td>\n",
       "    </tr>\n",
       "  </tbody>\n",
       "</table>\n",
       "</div>"
      ],
      "text/plain": [
       "  Image ImageFilename           EAN USDateAdded USDateRemoved  UPC Rating  \\\n",
       "0     X        1086-1           NaN         NaN           NaN  NaN      0   \n",
       "1     X        1177-1           NaN         NaN           NaN  NaN      5   \n",
       "2     X        1196-1  5.702012e+12         NaN           NaN  NaN     11   \n",
       "3     X        1197-1  5.702012e+12         NaN           NaN  NaN      2   \n",
       "4     X        1198-1  5.702012e+12         NaN           NaN  NaN      8   \n",
       "\n",
       "  Released  USItemNumber  EUItemNumber AdditionalImageCount InstructionsCount  \n",
       "0        X           NaN           NaN                    0                 0  \n",
       "1        X           NaN           NaN                    0                 0  \n",
       "2        X           NaN           NaN                    0                 0  \n",
       "3        X           NaN           NaN                    0                 1  \n",
       "4        X           NaN           NaN                    0                 1  "
      ]
     },
     "execution_count": 6,
     "metadata": {},
     "output_type": "execute_result"
    }
   ],
   "source": [
    "irrelevant_cols = [\"Image\", \"ImageFilename\", \"EAN\", \"USDateAdded\", \"USDateRemoved\", \"UPC\", \"Rating\", \"Released\", \"USItemNumber\", \"EUItemNumber\", \"AdditionalImageCount\", \"InstructionsCount\"]\n",
    "df_raw[irrelevant_cols].head()"
   ]
  },
  {
   "cell_type": "code",
   "execution_count": 7,
   "id": "1c583889",
   "metadata": {},
   "outputs": [],
   "source": [
    "# Build a list of relevant columns\n",
    "relevant_cols = [col for col in df_raw.columns if col not in irrelevant_cols]"
   ]
  },
  {
   "cell_type": "markdown",
   "id": "b9a617c4",
   "metadata": {},
   "source": [
    "# 4. Explore Missing Values\n",
    "\n",
    "We now examine the missing data patterns across the relevant columns to assess data quality and identify potential issues that need to be addressed before modeling.\n"
   ]
  },
  {
   "cell_type": "code",
   "execution_count": 8,
   "id": "1c13a32c",
   "metadata": {},
   "outputs": [
    {
     "data": {
      "image/png": "[encoded data removed]",
      "text/plain": [
       "<Figure size 1400x600 with 1 Axes>"
      ]
     },
     "metadata": {},
     "output_type": "display_data"
    }
   ],
   "source": [
    "plt.figure(figsize=(14,6))\n",
    "sns.heatmap(df_raw[relevant_cols].isna(), cbar=False)\n",
    "plt.title(\"Missing Values Heatmap\")\n",
    "plt.show()"
   ]
  },
  {
   "cell_type": "markdown",
   "id": "7639c5b7",
   "metadata": {},
   "source": [
    "### 4.1 Explore missing values in the price columns\n",
    "\n",
    "**Insight 3:** Rows without any retail price data cannot be used for ROI modeling and will need to be removed during the cleaning phase."
   ]
  },
  {
   "cell_type": "code",
   "execution_count": 9,
   "id": "901aa226",
   "metadata": {},
   "outputs": [
    {
     "name": "stdout",
     "output_type": "stream",
     "text": [
      "4521 of 15833 sets have no price information.\n"
     ]
    }
   ],
   "source": [
    "price_cols = [\"USRetailPrice\", \"UKRetailPrice\", \"CARetailPrice\", \"DERetailPrice\"]\n",
    "\n",
    "# Find rows where all price columns are NaN\n",
    "missing_all_prices = df_raw[df_raw[price_cols].isna().all(axis=1)]\n",
    "\n",
    "print(f\"{missing_all_prices.shape[0]} of {df_raw.shape[0]} sets have no price information.\")  # shows how many rows"
   ]
  },
  {
   "cell_type": "markdown",
   "id": "c493a3f8",
   "metadata": {},
   "source": [
    "# 5. Check for Data inconsistencies\n",
    "\n",
    "**Insight 4:** There are nor invalid date ranges"
   ]
  },
  {
   "cell_type": "markdown",
   "id": "3712d4cf",
   "metadata": {},
   "source": [
    "### 5.1 Check for Launch Date > ExitDate"
   ]
  },
  {
   "cell_type": "code",
   "execution_count": 10,
   "id": "7ceda6f2",
   "metadata": {},
   "outputs": [
    {
     "name": "stdout",
     "output_type": "stream",
     "text": [
      "Inconsistent dates: 0\n"
     ]
    }
   ],
   "source": [
    "df_raw[\"LaunchDate\"] = pd.to_datetime(df_raw[\"LaunchDate\"], errors=\"coerce\", dayfirst=True)\n",
    "df_raw[\"ExitDate\"] = pd.to_datetime(df_raw[\"ExitDate\"], errors=\"coerce\", dayfirst=True)\n",
    "\n",
    "inconsistent_dates = (df_raw[\"LaunchDate\"] > df_raw[\"ExitDate\"]).sum()\n",
    "print(f\"Inconsistent dates: {inconsistent_dates}\")\n"
   ]
  },
  {
   "cell_type": "markdown",
   "id": "df1410a2",
   "metadata": {},
   "source": [
    "# 5. Price Exploration\n",
    "\n",
    "In this step, we analyze the distribution of retail prices to understand price dynamics and identify potential modeling challenges such as skewness or outliers.\n",
    "\n",
    "**Insight 5:** The price distribution is heavily right-skewed — most sets are priced below 100 €, while a small number of high-priced flagship sets drive the mean upward.\n",
    "To address this imbalance, log transformation and/or outlier handling may be applied during the cleaning phase."
   ]
  },
  {
   "cell_type": "code",
   "execution_count": 11,
   "id": "6723fca0",
   "metadata": {},
   "outputs": [
    {
     "data": {
      "image/png": "[encoded data removed]",
      "text/plain": [
       "<Figure size 640x480 with 1 Axes>"
      ]
     },
     "metadata": {},
     "output_type": "display_data"
    }
   ],
   "source": [
    "sns.histplot(data=df_raw, x=\"DERetailPrice\", kde=True, bins=30)\n",
    "plt.title(\"Distribution of Retail Price (Germany)\")\n",
    "plt.xlabel(\"Price (EUR)\")\n",
    "plt.show()"
   ]
  },
  {
   "cell_type": "markdown",
   "id": "05ffc364",
   "metadata": {},
   "source": [
    "## 6. Most Common Themes\n",
    "\n",
    "We also check the most frequent `Theme` values to understand the dataset composition.\n",
    "\n",
    "**Insight 6:** A few popular themes dominate the dataset. Later, these may serve as categorical features."
   ]
  },
  {
   "cell_type": "code",
   "execution_count": 12,
   "id": "1e7f57f8",
   "metadata": {},
   "outputs": [
    {
     "data": {
      "image/png": "[encoded data removed]",
      "text/plain": [
       "<Figure size 1200x500 with 1 Axes>"
      ]
     },
     "metadata": {},
     "output_type": "display_data"
    }
   ],
   "source": [
    "df_raw[\"Theme\"].value_counts().head(10).plot(kind=\"bar\", figsize=(12,5))\n",
    "plt.title(\"Top 10 Themes by Number of Sets\")\n",
    "plt.ylabel(\"Count\")\n",
    "plt.xticks(rotation=45)\n",
    "plt.show()\n"
   ]
  },
  {
   "cell_type": "markdown",
   "id": "0c03d9cb",
   "metadata": {},
   "source": [
    "## 7. Summary of Findings 🧭\n",
    "\n",
    "| # | Insight | Action |\n",
    "|---|---------|--------|\n",
    "| 1 | Many metadata columns not useful for modeling | Drop in cleaning |\n",
    "| 2 | Several columns have a high proportion of missing values | Drop or impute |\n",
    "| 3 | Some rows have no retail price information | Remove these rows |\n",
    "| 4 | No inconsistent date ranges (LaunchDate > ExitDate) | No action |\n",
    "| 5 | Price distribution is heavily right-skewed | Apply log transformation or outlier handling |\n",
    "| 6 | A few themes dominate the dataset | No action\n",
    "\n",
    "Next step:  \n",
    "We will implement these rules in `process.py` and apply the cleaning pipeline in the **next notebook** (Phase 1 — Cleaning & Feature Creation).\n"
   ]
  }
 ],
 "metadata": {
  "kernelspec": {
   "display_name": "lego-price-prediction-W7KXg3FE-py3.11",
   "language": "python",
   "name": "python3"
  },
  "language_info": {
   "codemirror_mode": {
    "name": "ipython",
    "version": 3
   },
   "file_extension": ".py",
   "mimetype": "text/x-python",
   "name": "python",
   "nbconvert_exporter": "python",
   "pygments_lexer": "ipython3",
   "version": "3.11.5"
  }
 },
 "nbformat": 4,
 "nbformat_minor": 5
}
