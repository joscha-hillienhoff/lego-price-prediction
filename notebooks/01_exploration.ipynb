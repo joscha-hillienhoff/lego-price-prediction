{
 "cells": [
  {
   "cell_type": "markdown",
   "id": "51ee89be",
   "metadata": {},
   "source": [
    "# LEGO Price Project — 01 Exploration\n",
    "*Goal:* The goal of the exploration will be to explore the lego dataset from brickable and understand the content of the different files \n"
   ]
  },
  {
   "cell_type": "markdown",
   "id": "793dbf4f",
   "metadata": {
    "vscode": {
     "languageId": "plaintext"
    }
   },
   "source": [
    "## 0. Imports"
   ]
  },
  {
   "cell_type": "code",
   "execution_count": 1,
   "id": "0215401c",
   "metadata": {},
   "outputs": [],
   "source": [
    "import pandas as pd"
   ]
  },
  {
   "cell_type": "markdown",
   "id": "06385c6b",
   "metadata": {
    "vscode": {
     "languageId": "plaintext"
    }
   },
   "source": [
    "## 1. Load & quick checks"
   ]
  },
  {
   "cell_type": "code",
   "execution_count": null,
   "id": "4bc1c6da",
   "metadata": {},
   "outputs": [],
   "source": []
  }
 ],
 "metadata": {
  "kernelspec": {
   "display_name": "venv",
   "language": "python",
   "name": "python3"
  },
  "language_info": {
   "codemirror_mode": {
    "name": "ipython",
    "version": 3
   },
   "file_extension": ".py",
   "mimetype": "text/x-python",
   "name": "python",
   "nbconvert_exporter": "python",
   "pygments_lexer": "ipython3",
   "version": "3.11.5"
  }
 },
 "nbformat": 4,
 "nbformat_minor": 5
}
